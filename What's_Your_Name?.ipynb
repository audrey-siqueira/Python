{
  "nbformat": 4,
  "nbformat_minor": 0,
  "metadata": {
    "colab": {
      "name": "What's Your Name?.ipynb",
      "provenance": [],
      "authorship_tag": "ABX9TyMCHV/OV52rM6ve60Sw6hrX",
      "include_colab_link": true
    },
    "kernelspec": {
      "name": "python3",
      "display_name": "Python 3"
    }
  },
  "cells": [
    {
      "cell_type": "markdown",
      "metadata": {
        "id": "view-in-github",
        "colab_type": "text"
      },
      "source": [
        "<a href=\"https://colab.research.google.com/github/audrey-siqueira/Python/blob/master/What's_Your_Name%3F.ipynb\" target=\"_parent\"><img src=\"https://colab.research.google.com/assets/colab-badge.svg\" alt=\"Open In Colab\"/></a>"
      ]
    },
    {
      "cell_type": "code",
      "metadata": {
        "id": "-X8Brt7S561q",
        "colab_type": "code",
        "colab": {}
      },
      "source": [
        "def print_full_name(a, b):\n",
        "    print(\"Hello \"+a+\" \"+b+\"! You just delved into python.\")\n",
        "print_full_name(input(),input()) \n",
        " "
      ],
      "execution_count": null,
      "outputs": []
    }
  ]
}