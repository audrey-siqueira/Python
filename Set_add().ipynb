{
  "nbformat": 4,
  "nbformat_minor": 0,
  "metadata": {
    "colab": {
      "name": "Set.add().ipynb",
      "provenance": [],
      "authorship_tag": "ABX9TyM/8gmWQNOKwbg7Ri0saVEU",
      "include_colab_link": true
    },
    "kernelspec": {
      "name": "python3",
      "display_name": "Python 3"
    }
  },
  "cells": [
    {
      "cell_type": "markdown",
      "metadata": {
        "id": "view-in-github",
        "colab_type": "text"
      },
      "source": [
        "<a href=\"https://colab.research.google.com/github/audrey-siqueira/Python/blob/master/Set_add().ipynb\" target=\"_parent\"><img src=\"https://colab.research.google.com/assets/colab-badge.svg\" alt=\"Open In Colab\"/></a>"
      ]
    },
    {
      "cell_type": "code",
      "metadata": {
        "id": "4Eu_JHvvSS38",
        "colab_type": "code",
        "colab": {}
      },
      "source": [
        "N = int(input())\n",
        "s = set()\n",
        "for i in range(N):\n",
        "    string = input()\n",
        "    s.add(string)\n",
        "print(len(s))\n"
      ],
      "execution_count": null,
      "outputs": []
    }
  ]
}