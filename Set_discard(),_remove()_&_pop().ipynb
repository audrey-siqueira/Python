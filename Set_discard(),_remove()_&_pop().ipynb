{
  "nbformat": 4,
  "nbformat_minor": 0,
  "metadata": {
    "colab": {
      "name": "Set .discard(), .remove() & .pop().ipynb",
      "provenance": [],
      "authorship_tag": "ABX9TyN6cacgaTf0NmzTMrio4/fr",
      "include_colab_link": true
    },
    "kernelspec": {
      "name": "python3",
      "display_name": "Python 3"
    }
  },
  "cells": [
    {
      "cell_type": "markdown",
      "metadata": {
        "id": "view-in-github",
        "colab_type": "text"
      },
      "source": [
        "<a href=\"https://colab.research.google.com/github/audrey-siqueira/Python/blob/master/Set_discard()%2C_remove()_%26_pop().ipynb\" target=\"_parent\"><img src=\"https://colab.research.google.com/assets/colab-badge.svg\" alt=\"Open In Colab\"/></a>"
      ]
    },
    {
      "cell_type": "code",
      "metadata": {
        "id": "ZWSOQlDAXbqD",
        "colab_type": "code",
        "colab": {}
      },
      "source": [
        "n=int(input())\n",
        "s=set(map(int,input().split()))\n",
        "N=int(input())\n",
        "for i in range(N):\n",
        "  command=input().split()\n",
        "  if command[0]==\"remove\":\n",
        "      s.remove(int(command[1]))\n",
        "  elif command[0]==\"discard\":\n",
        "    s.discard(int(command[1]))\n",
        "  else:\n",
        "    s.pop()\n",
        "print(sum(s))\n",
        "    "
      ],
      "execution_count": null,
      "outputs": []
    }
  ]
}