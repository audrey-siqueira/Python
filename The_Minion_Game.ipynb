{
  "nbformat": 4,
  "nbformat_minor": 0,
  "metadata": {
    "colab": {
      "name": "The Minion Game.ipynb",
      "provenance": [],
      "authorship_tag": "ABX9TyM0rsbvg1xW9WbtA2WBWkND",
      "include_colab_link": true
    },
    "kernelspec": {
      "name": "python3",
      "display_name": "Python 3"
    }
  },
  "cells": [
    {
      "cell_type": "markdown",
      "metadata": {
        "id": "view-in-github",
        "colab_type": "text"
      },
      "source": [
        "<a href=\"https://colab.research.google.com/github/audrey-siqueira/Python/blob/master/The_Minion_Game.ipynb\" target=\"_parent\"><img src=\"https://colab.research.google.com/assets/colab-badge.svg\" alt=\"Open In Colab\"/></a>"
      ]
    },
    {
      "cell_type": "code",
      "metadata": {
        "id": "zK7oeZy3OhdI",
        "colab_type": "code",
        "colab": {}
      },
      "source": [
        "def minion_game(string):\n",
        "    P1=0\n",
        "    P2=0\n",
        "    for i in range (len(string)):\n",
        "      if string[i] in ('A', 'E', 'I', 'O', 'U'):\n",
        "                 P1=P1+len(string)-i\n",
        "      else:\n",
        "                P2=P2+len(string)-i  \n",
        "    if P1>P2:\n",
        "       print(\"Kevin\",P1)\n",
        "    elif P2>P1:    \n",
        "       print(\"Stuart\",P2)\n",
        "    elif P1==P2:\n",
        "       print(\"Draw\")\n"
      ],
      "execution_count": null,
      "outputs": []
    }
  ]
}