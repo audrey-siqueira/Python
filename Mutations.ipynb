{
  "nbformat": 4,
  "nbformat_minor": 0,
  "metadata": {
    "colab": {
      "name": "Mutations.ipynb",
      "provenance": [],
      "authorship_tag": "ABX9TyPByBMpy2K0zVxum3xWWlTE",
      "include_colab_link": true
    },
    "kernelspec": {
      "name": "python3",
      "display_name": "Python 3"
    }
  },
  "cells": [
    {
      "cell_type": "markdown",
      "metadata": {
        "id": "view-in-github",
        "colab_type": "text"
      },
      "source": [
        "<a href=\"https://colab.research.google.com/github/audrey-siqueira/Python/blob/master/Mutations.ipynb\" target=\"_parent\"><img src=\"https://colab.research.google.com/assets/colab-badge.svg\" alt=\"Open In Colab\"/></a>"
      ]
    },
    {
      "cell_type": "code",
      "metadata": {
        "id": "-X8Brt7S561q",
        "colab_type": "code",
        "colab": {}
      },
      "source": [
        "def mutate_string(string, string2):\n",
        "    lista2=string2.split()\n",
        "    x=int(lista2[0])\n",
        "    y=lista2[1]\n",
        "    print(string[:x]+y+string[x+1:])\n",
        "\n",
        "mutate_string(input(),input())\n",
        " "
      ],
      "execution_count": null,
      "outputs": []
    }
  ]
}