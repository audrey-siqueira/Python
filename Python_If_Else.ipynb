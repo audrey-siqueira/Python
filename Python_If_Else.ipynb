{
  "nbformat": 4,
  "nbformat_minor": 0,
  "metadata": {
    "colab": {
      "name": "Python If-Else.ipynb",
      "provenance": [],
      "authorship_tag": "ABX9TyOIaJnSkLtPTIlNNeEXs2js",
      "include_colab_link": true
    },
    "kernelspec": {
      "name": "python3",
      "display_name": "Python 3"
    }
  },
  "cells": [
    {
      "cell_type": "markdown",
      "metadata": {
        "id": "view-in-github",
        "colab_type": "text"
      },
      "source": [
        "<a href=\"https://colab.research.google.com/github/audrey-siqueira/Python/blob/master/Python_If_Else.ipynb\" target=\"_parent\"><img src=\"https://colab.research.google.com/assets/colab-badge.svg\" alt=\"Open In Colab\"/></a>"
      ]
    },
    {
      "cell_type": "code",
      "metadata": {
        "id": "iOOcPqqn5YuE",
        "colab_type": "code",
        "colab": {}
      },
      "source": [
        "def weird(n):\n",
        "    if (n%2==1):\n",
        "        print(\"Weird\")\n",
        "    elif (n%2 ==0 and 2<=n<=5):\n",
        "        print(\"Not Weird\")\n",
        "    elif (n%2 ==0 and 6<=n<=20):\n",
        "        print(\"Weird\")\n",
        "    elif (n%2 ==0 and n>20): \n",
        "        print(\"Not Weird\") \n",
        "\n",
        "weird(int(input()))\n"
      ],
      "execution_count": null,
      "outputs": []
    }
  ]
}