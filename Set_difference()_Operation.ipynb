{
  "nbformat": 4,
  "nbformat_minor": 0,
  "metadata": {
    "colab": {
      "name": "Set .difference() Operation.ipynb",
      "provenance": [],
      "authorship_tag": "ABX9TyMz1lR5UFiOqxo6QOsajLMd",
      "include_colab_link": true
    },
    "kernelspec": {
      "name": "python3",
      "display_name": "Python 3"
    }
  },
  "cells": [
    {
      "cell_type": "markdown",
      "metadata": {
        "id": "view-in-github",
        "colab_type": "text"
      },
      "source": [
        "<a href=\"https://colab.research.google.com/github/audrey-siqueira/Python/blob/master/Set_difference()_Operation.ipynb\" target=\"_parent\"><img src=\"https://colab.research.google.com/assets/colab-badge.svg\" alt=\"Open In Colab\"/></a>"
      ]
    },
    {
      "cell_type": "code",
      "metadata": {
        "id": "7g225tftX_PG",
        "colab_type": "code",
        "colab": {}
      },
      "source": [
        "n=int(input())\n",
        "a=set(map(int,input().split()))\n",
        "m=int(input())\n",
        "b=set(map(int,input().split()))\n",
        "k=a.difference(b)\n",
        "print(len(k))\n"
      ],
      "execution_count": null,
      "outputs": []
    }
  ]
}