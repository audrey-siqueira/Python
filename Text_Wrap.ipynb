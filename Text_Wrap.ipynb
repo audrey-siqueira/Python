{
  "nbformat": 4,
  "nbformat_minor": 0,
  "metadata": {
    "colab": {
      "name": "Text Wrap.ipynb",
      "provenance": [],
      "authorship_tag": "ABX9TyO8s4wK5njJsEMjK5UvDrm6",
      "include_colab_link": true
    },
    "kernelspec": {
      "name": "python3",
      "display_name": "Python 3"
    }
  },
  "cells": [
    {
      "cell_type": "markdown",
      "metadata": {
        "id": "view-in-github",
        "colab_type": "text"
      },
      "source": [
        "<a href=\"https://colab.research.google.com/github/audrey-siqueira/Python/blob/master/Text_Wrap.ipynb\" target=\"_parent\"><img src=\"https://colab.research.google.com/assets/colab-badge.svg\" alt=\"Open In Colab\"/></a>"
      ]
    },
    {
      "cell_type": "code",
      "metadata": {
        "id": "-X8Brt7S561q",
        "colab_type": "code",
        "colab": {}
      },
      "source": [
        "import math\n",
        "\n",
        "def wrap(string, max_width):\n",
        "    x=\"\"\n",
        "    n=len(string)\n",
        "    w=max_width\n",
        "    k=math.ceil(n/w)\n",
        "    for i in range (k):\n",
        "        x=x+string[i*w:((i*w)+w)]+\"\\n\"\n",
        "    return(x)    \n",
        " "
      ],
      "execution_count": null,
      "outputs": []
    }
  ]
}