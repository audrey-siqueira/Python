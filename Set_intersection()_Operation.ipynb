{
  "nbformat": 4,
  "nbformat_minor": 0,
  "metadata": {
    "colab": {
      "name": "Set .intersection() Operation.ipynb",
      "provenance": [],
      "authorship_tag": "ABX9TyNhKvbJuzG1YFseTDIYhmRD",
      "include_colab_link": true
    },
    "kernelspec": {
      "name": "python3",
      "display_name": "Python 3"
    }
  },
  "cells": [
    {
      "cell_type": "markdown",
      "metadata": {
        "id": "view-in-github",
        "colab_type": "text"
      },
      "source": [
        "<a href=\"https://colab.research.google.com/github/audrey-siqueira/Python/blob/master/Set_intersection()_Operation.ipynb\" target=\"_parent\"><img src=\"https://colab.research.google.com/assets/colab-badge.svg\" alt=\"Open In Colab\"/></a>"
      ]
    },
    {
      "cell_type": "code",
      "metadata": {
        "id": "A-n1XopuXvm-",
        "colab_type": "code",
        "colab": {}
      },
      "source": [
        "n=int(input())\n",
        "a=set(map(int,input().split()))\n",
        "m=int(input())\n",
        "b=set(map(int,input().split()))\n",
        "k=a.intersection(b)\n",
        "print(len(k))\n"
      ],
      "execution_count": null,
      "outputs": []
    }
  ]
}