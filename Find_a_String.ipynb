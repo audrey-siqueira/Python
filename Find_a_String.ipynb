{
  "nbformat": 4,
  "nbformat_minor": 0,
  "metadata": {
    "colab": {
      "name": "Find a String.ipynb",
      "provenance": [],
      "authorship_tag": "ABX9TyPGLbz47ualNeB6Dk1o0y8o",
      "include_colab_link": true
    },
    "kernelspec": {
      "name": "python3",
      "display_name": "Python 3"
    }
  },
  "cells": [
    {
      "cell_type": "markdown",
      "metadata": {
        "id": "view-in-github",
        "colab_type": "text"
      },
      "source": [
        "<a href=\"https://colab.research.google.com/github/audrey-siqueira/Python/blob/master/Find_a_String.ipynb\" target=\"_parent\"><img src=\"https://colab.research.google.com/assets/colab-badge.svg\" alt=\"Open In Colab\"/></a>"
      ]
    },
    {
      "cell_type": "code",
      "metadata": {
        "id": "-X8Brt7S561q",
        "colab_type": "code",
        "colab": {}
      },
      "source": [
        "def count_substring(string, sub_string):\n",
        "    freq=0\n",
        "    for i in range(len(string)-len(sub_string)+1):\n",
        "         if string[i:(i+len(sub_string))]==sub_string: \n",
        "            freq=freq+1\n",
        "    return(freq)   \n",
        " "
      ],
      "execution_count": null,
      "outputs": []
    }
  ]
}