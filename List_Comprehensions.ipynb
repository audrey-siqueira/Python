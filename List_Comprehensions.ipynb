{
  "nbformat": 4,
  "nbformat_minor": 0,
  "metadata": {
    "colab": {
      "name": "List Comprehensions.ipynb",
      "provenance": [],
      "authorship_tag": "ABX9TyMu7zrI2iZcfF8LpySsY+94",
      "include_colab_link": true
    },
    "kernelspec": {
      "name": "python3",
      "display_name": "Python 3"
    }
  },
  "cells": [
    {
      "cell_type": "markdown",
      "metadata": {
        "id": "view-in-github",
        "colab_type": "text"
      },
      "source": [
        "<a href=\"https://colab.research.google.com/github/audrey-siqueira/Python/blob/master/List_Comprehensions.ipynb\" target=\"_parent\"><img src=\"https://colab.research.google.com/assets/colab-badge.svg\" alt=\"Open In Colab\"/></a>"
      ]
    },
    {
      "cell_type": "code",
      "metadata": {
        "id": "-X8Brt7S561q",
        "colab_type": "code",
        "colab": {}
      },
      "source": [
        "def cubo(x,y,z,n):\n",
        "    vetor=[]\n",
        "    for i in range(0,x+1):\n",
        "        for j in range(0,y+1):\n",
        "            for k in range(0,z+1):\n",
        "                if (i+j+k)!=n:\n",
        "                   vetor.append([i,j,k])            \n",
        "    print(vetor)\n",
        "cubo(int(input()),int(input()),int(input()),int(input()))"
      ],
      "execution_count": null,
      "outputs": []
    }
  ]
}