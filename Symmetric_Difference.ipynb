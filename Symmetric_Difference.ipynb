{
  "nbformat": 4,
  "nbformat_minor": 0,
  "metadata": {
    "colab": {
      "name": "Symmetric Difference.ipynb",
      "provenance": [],
      "authorship_tag": "ABX9TyM6kfM81uTvZz0G3Ozxj4ry",
      "include_colab_link": true
    },
    "kernelspec": {
      "name": "python3",
      "display_name": "Python 3"
    }
  },
  "cells": [
    {
      "cell_type": "markdown",
      "metadata": {
        "id": "view-in-github",
        "colab_type": "text"
      },
      "source": [
        "<a href=\"https://colab.research.google.com/github/audrey-siqueira/Python/blob/master/Symmetric_Difference.ipynb\" target=\"_parent\"><img src=\"https://colab.research.google.com/assets/colab-badge.svg\" alt=\"Open In Colab\"/></a>"
      ]
    },
    {
      "cell_type": "code",
      "metadata": {
        "id": "4Eu_JHvvSS38",
        "colab_type": "code",
        "colab": {}
      },
      "source": [
        "M=int(input())\n",
        "m=input().split()\n",
        "N=int(input())\n",
        "n=input().split()\n",
        "\n",
        "x=set(m)\n",
        "y=set(n)\n",
        "p=y.difference(x)\n",
        "q=x.difference(y)\n",
        "r=p.union(q)\n",
        "r=sorted(r,key=int)\n",
        "print ('\\n'.join(r))\n"
      ],
      "execution_count": null,
      "outputs": []
    }
  ]
}