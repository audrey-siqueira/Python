{
  "nbformat": 4,
  "nbformat_minor": 0,
  "metadata": {
    "colab": {
      "name": "Set Mutations.ipynb",
      "provenance": [],
      "authorship_tag": "ABX9TyOPavgQukpoBZ7pfKtxiPef",
      "include_colab_link": true
    },
    "kernelspec": {
      "name": "python3",
      "display_name": "Python 3"
    }
  },
  "cells": [
    {
      "cell_type": "markdown",
      "metadata": {
        "id": "view-in-github",
        "colab_type": "text"
      },
      "source": [
        "<a href=\"https://colab.research.google.com/github/audrey-siqueira/Python/blob/master/Set_Mutations.ipynb\" target=\"_parent\"><img src=\"https://colab.research.google.com/assets/colab-badge.svg\" alt=\"Open In Colab\"/></a>"
      ]
    },
    {
      "cell_type": "code",
      "metadata": {
        "id": "4Eu_JHvvSS38",
        "colab_type": "code",
        "colab": {}
      },
      "source": [
        "n=int(input())\n",
        "a=set(map(int,input().split()))\n",
        "m=int(input())\n",
        "for i in range(m):\n",
        "    c=input().split()\n",
        "    b=set(map(int,input().split()))\n",
        "    if c[0]==\"intersection_update\":\n",
        "        a.intersection_update(b)\n",
        "    elif c[0]==\"update\":\n",
        "        a.update(b)\n",
        "    elif c[0]==\"symmetric_difference_update\":\n",
        "        a.symmetric_difference_update(b)\n",
        "    else:\n",
        "        a.difference_update(b)\n",
        "print(sum(a))\n",
        "\n",
        "\n",
        "\n",
        "\n",
        "\n"
      ],
      "execution_count": null,
      "outputs": []
    }
  ]
}