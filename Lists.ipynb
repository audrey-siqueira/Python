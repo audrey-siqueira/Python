{
  "nbformat": 4,
  "nbformat_minor": 0,
  "metadata": {
    "colab": {
      "name": "Lists.ipynb",
      "provenance": [],
      "authorship_tag": "ABX9TyOb06JY3fM2wSgK++C9TI9+",
      "include_colab_link": true
    },
    "kernelspec": {
      "name": "python3",
      "display_name": "Python 3"
    }
  },
  "cells": [
    {
      "cell_type": "markdown",
      "metadata": {
        "id": "view-in-github",
        "colab_type": "text"
      },
      "source": [
        "<a href=\"https://colab.research.google.com/github/audrey-siqueira/Python/blob/master/Lists.ipynb\" target=\"_parent\"><img src=\"https://colab.research.google.com/assets/colab-badge.svg\" alt=\"Open In Colab\"/></a>"
      ]
    },
    {
      "cell_type": "code",
      "metadata": {
        "id": "-X8Brt7S561q",
        "colab_type": "code",
        "colab": {}
      },
      "source": [
        "def comando(n):\n",
        "    lista=[]\n",
        "    for i in range (n):\n",
        "        string=input()\n",
        "        string_arg=string.split() \n",
        "        cmd=string_arg[0]\n",
        "        if (cmd==\"print\"):\n",
        "            print(lista)\n",
        "        elif (cmd==\"insert\"):\n",
        "            arg1=int(string_arg[1])\n",
        "            arg2=int(string_arg[2])\n",
        "            lista.insert(arg1,arg2)\n",
        "        elif (cmd==\"append\"):\n",
        "            arg1=int(string_arg[1])\n",
        "            lista.append(arg1)\n",
        "        elif (cmd==\"sort\"):\n",
        "            lista.sort()\n",
        "        elif (cmd==\"pop\"):\n",
        "            lista.pop()\n",
        "        elif (cmd==\"reverse\"):\n",
        "            lista.reverse()\n",
        "        elif (cmd==\"remove\"):\n",
        "            arg1=int(string_arg[1])\n",
        "            lista.remove(arg1)    \n",
        "\n",
        "comando(int(input()))\n",
        "   \n",
        " "
      ],
      "execution_count": null,
      "outputs": []
    }
  ]
}