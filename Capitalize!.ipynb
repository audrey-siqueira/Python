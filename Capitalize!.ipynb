{
  "nbformat": 4,
  "nbformat_minor": 0,
  "metadata": {
    "colab": {
      "name": "Capitalize!.ipynb",
      "provenance": [],
      "authorship_tag": "ABX9TyPLJHEUfT/ZAdVykK/HyhNd",
      "include_colab_link": true
    },
    "kernelspec": {
      "name": "python3",
      "display_name": "Python 3"
    }
  },
  "cells": [
    {
      "cell_type": "markdown",
      "metadata": {
        "id": "view-in-github",
        "colab_type": "text"
      },
      "source": [
        "<a href=\"https://colab.research.google.com/github/audrey-siqueira/Python/blob/master/Capitalize!.ipynb\" target=\"_parent\"><img src=\"https://colab.research.google.com/assets/colab-badge.svg\" alt=\"Open In Colab\"/></a>"
      ]
    },
    {
      "cell_type": "code",
      "metadata": {
        "id": "je7dDIZDLAsA",
        "colab_type": "code",
        "colab": {}
      },
      "source": [
        "def solve(s):\n",
        "   s = s.split(\" \")\n",
        "   return(\" \".join(i.capitalize() for i in s))\n",
        "\n"
      ],
      "execution_count": null,
      "outputs": []
    }
  ]
}