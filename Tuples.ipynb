{
  "nbformat": 4,
  "nbformat_minor": 0,
  "metadata": {
    "colab": {
      "name": "Tuples.ipynb",
      "provenance": [],
      "authorship_tag": "ABX9TyNoy5uHoaE2gboNBgwOc8hl",
      "include_colab_link": true
    },
    "kernelspec": {
      "name": "python3",
      "display_name": "Python 3"
    }
  },
  "cells": [
    {
      "cell_type": "markdown",
      "metadata": {
        "id": "view-in-github",
        "colab_type": "text"
      },
      "source": [
        "<a href=\"https://colab.research.google.com/github/audrey-siqueira/Python/blob/master/Tuples.ipynb\" target=\"_parent\"><img src=\"https://colab.research.google.com/assets/colab-badge.svg\" alt=\"Open In Colab\"/></a>"
      ]
    },
    {
      "cell_type": "code",
      "metadata": {
        "id": "-X8Brt7S561q",
        "colab_type": "code",
        "colab": {}
      },
      "source": [
        "n = int(input())\n",
        "string =input()\n",
        "lista = string.split()\n",
        "lista = map(int, lista)\n",
        "\n",
        "t =tuple(lista)\n",
        "print(hash(t))\n",
        "   \n",
        " "
      ],
      "execution_count": null,
      "outputs": []
    }
  ]
}