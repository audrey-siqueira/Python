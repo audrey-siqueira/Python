{
  "nbformat": 4,
  "nbformat_minor": 0,
  "metadata": {
    "colab": {
      "name": "String Validators.ipynb",
      "provenance": [],
      "authorship_tag": "ABX9TyNFVcZ+TbhY2JiU2xf33Aaa",
      "include_colab_link": true
    },
    "kernelspec": {
      "name": "python3",
      "display_name": "Python 3"
    }
  },
  "cells": [
    {
      "cell_type": "markdown",
      "metadata": {
        "id": "view-in-github",
        "colab_type": "text"
      },
      "source": [
        "<a href=\"https://colab.research.google.com/github/audrey-siqueira/Python/blob/master/String_Validators.ipynb\" target=\"_parent\"><img src=\"https://colab.research.google.com/assets/colab-badge.svg\" alt=\"Open In Colab\"/></a>"
      ]
    },
    {
      "cell_type": "code",
      "metadata": {
        "id": "-X8Brt7S561q",
        "colab_type": "code",
        "colab": {}
      },
      "source": [
        "s = input()\n",
        "x=False\n",
        "y=False\n",
        "z=False\n",
        "j=False\n",
        "k=False\n",
        "for i in range(len(s)):\n",
        "    if (s[i].isalnum()):\n",
        "        x=True\n",
        "    if (s[i].isalpha()):\n",
        "        y=True\n",
        "    if (s[i].isdigit()):\n",
        "        z=True\n",
        "    if (s[i].islower()):\n",
        "        j=True\n",
        "    if (s[i].isupper()):\n",
        "        k=True\n",
        "print(x,y,z,j,k,sep='\\n')  \n",
        " "
      ],
      "execution_count": null,
      "outputs": []
    }
  ]
}