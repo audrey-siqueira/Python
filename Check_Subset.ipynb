{
  "nbformat": 4,
  "nbformat_minor": 0,
  "metadata": {
    "colab": {
      "name": "Check Subset.ipynb",
      "provenance": [],
      "authorship_tag": "ABX9TyPMgZEx/nPXrkfQGInXETy/",
      "include_colab_link": true
    },
    "kernelspec": {
      "name": "python3",
      "display_name": "Python 3"
    }
  },
  "cells": [
    {
      "cell_type": "markdown",
      "metadata": {
        "id": "view-in-github",
        "colab_type": "text"
      },
      "source": [
        "<a href=\"https://colab.research.google.com/github/audrey-siqueira/Python/blob/master/Check_Subset.ipynb\" target=\"_parent\"><img src=\"https://colab.research.google.com/assets/colab-badge.svg\" alt=\"Open In Colab\"/></a>"
      ]
    },
    {
      "cell_type": "code",
      "metadata": {
        "id": "4Eu_JHvvSS38",
        "colab_type": "code",
        "colab": {}
      },
      "source": [
        "n=int(input())\n",
        "for i in range(n):\n",
        "   m=int(input())\n",
        "   a=set(map(int,input().split()))\n",
        "   n=int(input())\n",
        "   b=set(map(int,input().split()))\n",
        "   if a.issubset(b):\n",
        "      print(\"True\")\n",
        "   else:\n",
        "      print(\"False\")\n",
        "\n",
        "\n",
        "\n",
        "\n",
        "\n",
        "\n",
        "\n"
      ],
      "execution_count": null,
      "outputs": []
    }
  ]
}