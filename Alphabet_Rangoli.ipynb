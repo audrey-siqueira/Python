{
  "nbformat": 4,
  "nbformat_minor": 0,
  "metadata": {
    "colab": {
      "name": "Alphabet Rangoli.ipynb",
      "provenance": [],
      "authorship_tag": "ABX9TyNDad6nQB2asln2BdDE6qxo",
      "include_colab_link": true
    },
    "kernelspec": {
      "name": "python3",
      "display_name": "Python 3"
    }
  },
  "cells": [
    {
      "cell_type": "markdown",
      "metadata": {
        "id": "view-in-github",
        "colab_type": "text"
      },
      "source": [
        "<a href=\"https://colab.research.google.com/github/audrey-siqueira/Python/blob/master/Alphabet_Rangoli.ipynb\" target=\"_parent\"><img src=\"https://colab.research.google.com/assets/colab-badge.svg\" alt=\"Open In Colab\"/></a>"
      ]
    },
    {
      "cell_type": "code",
      "metadata": {
        "id": "5VoXICBuOO4d",
        "colab_type": "code",
        "colab": {}
      },
      "source": [
        "def print_rangoli(size):\n",
        "    alp = 'abcdefghijklmnopqrstuvwxyz'\n",
        "    for i in range(size-1,-size,-1):\n",
        "\n",
        "        temp = '-'.join(  alp[size-1:abs(i):-1]  +  alp[abs(i):size] )\n",
        "        \n",
        "        print(temp.center(4*size-3,'-'))"
      ],
      "execution_count": null,
      "outputs": []
    }
  ]
}