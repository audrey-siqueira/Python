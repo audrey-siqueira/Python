{
  "nbformat": 4,
  "nbformat_minor": 0,
  "metadata": {
    "colab": {
      "name": "String Formatting.ipynb",
      "provenance": [],
      "authorship_tag": "ABX9TyNVA2s2sZShbDZffozXKntQ",
      "include_colab_link": true
    },
    "kernelspec": {
      "name": "python3",
      "display_name": "Python 3"
    }
  },
  "cells": [
    {
      "cell_type": "markdown",
      "metadata": {
        "id": "view-in-github",
        "colab_type": "text"
      },
      "source": [
        "<a href=\"https://colab.research.google.com/github/audrey-siqueira/Python/blob/master/String_Formatting.ipynb\" target=\"_parent\"><img src=\"https://colab.research.google.com/assets/colab-badge.svg\" alt=\"Open In Colab\"/></a>"
      ]
    },
    {
      "cell_type": "code",
      "metadata": {
        "id": "XyFDkHloKjuK",
        "colab_type": "code",
        "colab": {}
      },
      "source": [
        "def print_formatted(number):\n",
        "    w = len(str(bin(number)).replace('0b',''))\n",
        "    for i in range(1,number+1):\n",
        "            j = str(i).rjust(w, ' ')\n",
        "            b = bin(int(i)).replace('0b','').rjust(w, ' ')\n",
        "            o = oct(int(i)).replace('0o','').rjust(w, ' ')\n",
        "            h = hex(int(i)).replace('0x','').upper().rjust(w, ' ')\n",
        "            print (j, o, h, b)\n",
        "\n"
      ],
      "execution_count": null,
      "outputs": []
    }
  ]
}