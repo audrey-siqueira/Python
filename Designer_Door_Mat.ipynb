{
  "nbformat": 4,
  "nbformat_minor": 0,
  "metadata": {
    "colab": {
      "name": "Designer Door Mat.ipynb",
      "provenance": [],
      "authorship_tag": "ABX9TyNsC0qgZR8sfN6h4l8g3A7M",
      "include_colab_link": true
    },
    "kernelspec": {
      "name": "python3",
      "display_name": "Python 3"
    }
  },
  "cells": [
    {
      "cell_type": "markdown",
      "metadata": {
        "id": "view-in-github",
        "colab_type": "text"
      },
      "source": [
        "<a href=\"https://colab.research.google.com/github/audrey-siqueira/Python/blob/master/Designer_Door_Mat.ipynb\" target=\"_parent\"><img src=\"https://colab.research.google.com/assets/colab-badge.svg\" alt=\"Open In Colab\"/></a>"
      ]
    },
    {
      "cell_type": "code",
      "metadata": {
        "id": "9yASqFc4KHDZ",
        "colab_type": "code",
        "colab": {}
      },
      "source": [
        "String=input().split()\n",
        "N=int(String[0])\n",
        "M=int(String[1])\n",
        "c=\"WELCOME\"\n",
        "simbolo=\".|.\"\n",
        "for i in range(1,N-1,2): \n",
        "    print((i * simbolo).center(M, \"-\"))\n",
        "print(\"WELCOME\".center(M,\"-\"))\n",
        "for i in range(N-2,0,-2): \n",
        "    print((i *simbolo).center(M, \"-\"))\n"
      ],
      "execution_count": null,
      "outputs": []
    }
  ]
}