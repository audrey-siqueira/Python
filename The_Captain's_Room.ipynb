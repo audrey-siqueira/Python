{
  "nbformat": 4,
  "nbformat_minor": 0,
  "metadata": {
    "colab": {
      "name": "The Captain's Room.ipynb",
      "provenance": [],
      "authorship_tag": "ABX9TyPrhRog2EAn73iSFScfKOHf",
      "include_colab_link": true
    },
    "kernelspec": {
      "name": "python3",
      "display_name": "Python 3"
    }
  },
  "cells": [
    {
      "cell_type": "markdown",
      "metadata": {
        "id": "view-in-github",
        "colab_type": "text"
      },
      "source": [
        "<a href=\"https://colab.research.google.com/github/audrey-siqueira/Python/blob/master/The_Captain's_Room.ipynb\" target=\"_parent\"><img src=\"https://colab.research.google.com/assets/colab-badge.svg\" alt=\"Open In Colab\"/></a>"
      ]
    },
    {
      "cell_type": "code",
      "metadata": {
        "id": "_LwO-hcSYp4O",
        "colab_type": "code",
        "colab": {}
      },
      "source": [
        "n=int(input())\n",
        "a=list(map(int,input().split()))\n",
        "b=set(a)\n",
        "print( ((sum(b)*n)-(sum(a))) //(n-1))\n"
      ],
      "execution_count": null,
      "outputs": []
    }
  ]
}