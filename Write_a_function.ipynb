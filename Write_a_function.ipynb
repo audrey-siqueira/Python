{
  "nbformat": 4,
  "nbformat_minor": 0,
  "metadata": {
    "colab": {
      "name": "Write a function.ipynb",
      "provenance": [],
      "authorship_tag": "ABX9TyO+cTd6xqnDLoZTH8EtVnek",
      "include_colab_link": true
    },
    "kernelspec": {
      "name": "python3",
      "display_name": "Python 3"
    }
  },
  "cells": [
    {
      "cell_type": "markdown",
      "metadata": {
        "id": "view-in-github",
        "colab_type": "text"
      },
      "source": [
        "<a href=\"https://colab.research.google.com/github/audrey-siqueira/Python/blob/master/Write_a_function.ipynb\" target=\"_parent\"><img src=\"https://colab.research.google.com/assets/colab-badge.svg\" alt=\"Open In Colab\"/></a>"
      ]
    },
    {
      "cell_type": "code",
      "metadata": {
        "id": "-X8Brt7S561q",
        "colab_type": "code",
        "colab": {}
      },
      "source": [
        "def is_leap(year):\n",
        "    \n",
        "    if (year%4==0 and year%100!=0):\n",
        "      leap=True\n",
        "    elif (year%4==0 and year%100==0 and year%400==0):\n",
        "       leap=True\n",
        "    else:\n",
        "        leap=False\n",
        "        \n",
        "    return leap\n",
        "\n",
        "year = int(input())"
      ],
      "execution_count": null,
      "outputs": []
    }
  ]
}