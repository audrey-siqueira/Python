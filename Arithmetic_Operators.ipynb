{
  "nbformat": 4,
  "nbformat_minor": 0,
  "metadata": {
    "colab": {
      "name": "Arithmetic Operators.ipynb",
      "provenance": [],
      "authorship_tag": "ABX9TyNAAVXO6soO3iicIvwrdhMJ",
      "include_colab_link": true
    },
    "kernelspec": {
      "name": "python3",
      "display_name": "Python 3"
    }
  },
  "cells": [
    {
      "cell_type": "markdown",
      "metadata": {
        "id": "view-in-github",
        "colab_type": "text"
      },
      "source": [
        "<a href=\"https://colab.research.google.com/github/audrey-siqueira/Python/blob/master/Arithmetic_Operators.ipynb\" target=\"_parent\"><img src=\"https://colab.research.google.com/assets/colab-badge.svg\" alt=\"Open In Colab\"/></a>"
      ]
    },
    {
      "cell_type": "code",
      "metadata": {
        "id": "-X8Brt7S561q",
        "colab_type": "code",
        "colab": {}
      },
      "source": [
        "def operators(a,b):\n",
        "    soma=(a + b)\n",
        "    print(soma)\n",
        "    subt=(a-b)\n",
        "    print(subt)\n",
        "    mult=(a*b)\n",
        "    print(mult)\n",
        "\n",
        "operators(int(input()),int(input()))"
      ],
      "execution_count": null,
      "outputs": []
    }
  ]
}