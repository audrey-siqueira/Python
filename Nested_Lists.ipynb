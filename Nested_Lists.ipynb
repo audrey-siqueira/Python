{
  "nbformat": 4,
  "nbformat_minor": 0,
  "metadata": {
    "colab": {
      "name": "Nested Lists.ipynb",
      "provenance": [],
      "authorship_tag": "ABX9TyMvlXtl4HSY3JVblqcBCuVs",
      "include_colab_link": true
    },
    "kernelspec": {
      "name": "python3",
      "display_name": "Python 3"
    }
  },
  "cells": [
    {
      "cell_type": "markdown",
      "metadata": {
        "id": "view-in-github",
        "colab_type": "text"
      },
      "source": [
        "<a href=\"https://colab.research.google.com/github/audrey-siqueira/Python/blob/master/Nested_Lists.ipynb\" target=\"_parent\"><img src=\"https://colab.research.google.com/assets/colab-badge.svg\" alt=\"Open In Colab\"/></a>"
      ]
    },
    {
      "cell_type": "code",
      "metadata": {
        "id": "-X8Brt7S561q",
        "colab_type": "code",
        "colab": {}
      },
      "source": [
        "def notas(N):\n",
        "    Lista=[]\n",
        "    Boletim=[]\n",
        "    for j in range(0,N):\n",
        "        name=input()\n",
        "        mark=float(input())\n",
        "        Lista.append([name,mark]) \n",
        "        Boletim.append(mark) \n",
        "    alfa=set(Boletim)\n",
        "    alfa=sorted(alfa)[1]         \n",
        "    Lista=sorted(Lista)\n",
        "\n",
        "    for name,mark in Lista:\n",
        "        if mark==alfa:\n",
        "           print(name)\n",
        "    \n",
        "notas(int(input())) "
      ],
      "execution_count": null,
      "outputs": []
    }
  ]
}