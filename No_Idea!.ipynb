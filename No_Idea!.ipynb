{
  "nbformat": 4,
  "nbformat_minor": 0,
  "metadata": {
    "colab": {
      "name": "No Idea!.ipynb",
      "provenance": [],
      "authorship_tag": "ABX9TyPo+s8wrXZFKve+yoF1JFcI",
      "include_colab_link": true
    },
    "kernelspec": {
      "name": "python3",
      "display_name": "Python 3"
    }
  },
  "cells": [
    {
      "cell_type": "markdown",
      "metadata": {
        "id": "view-in-github",
        "colab_type": "text"
      },
      "source": [
        "<a href=\"https://colab.research.google.com/github/audrey-siqueira/Python/blob/master/No_Idea!.ipynb\" target=\"_parent\"><img src=\"https://colab.research.google.com/assets/colab-badge.svg\" alt=\"Open In Colab\"/></a>"
      ]
    },
    {
      "cell_type": "code",
      "metadata": {
        "id": "WbQYEdYcXHgm",
        "colab_type": "code",
        "colab": {}
      },
      "source": [
        "n, m = input().split()\n",
        "\n",
        "sc_ar = input().split()\n",
        "\n",
        "A =input().split()\n",
        "a=set(A)\n",
        "B =input().split()\n",
        "b=set(B)\n",
        "P1=0\n",
        "P2=0\n",
        "for i in sc_ar:\n",
        "    if i in a:\n",
        "       P1=P1+1\n",
        "    if i in b:\n",
        "       P2=P2-1\n",
        "print(P1+P2)\n"
      ],
      "execution_count": null,
      "outputs": []
    }
  ]
}