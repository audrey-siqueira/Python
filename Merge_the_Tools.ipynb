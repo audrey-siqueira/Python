{
  "nbformat": 4,
  "nbformat_minor": 0,
  "metadata": {
    "colab": {
      "name": "Merge the Tools.ipynb",
      "provenance": [],
      "authorship_tag": "ABX9TyMzac9XTqgnegQHeHLZK3Ad",
      "include_colab_link": true
    },
    "kernelspec": {
      "name": "python3",
      "display_name": "Python 3"
    }
  },
  "cells": [
    {
      "cell_type": "markdown",
      "metadata": {
        "id": "view-in-github",
        "colab_type": "text"
      },
      "source": [
        "<a href=\"https://colab.research.google.com/github/audrey-siqueira/Python/blob/master/Merge_the_Tools.ipynb\" target=\"_parent\"><img src=\"https://colab.research.google.com/assets/colab-badge.svg\" alt=\"Open In Colab\"/></a>"
      ]
    },
    {
      "cell_type": "code",
      "metadata": {
        "id": "Q-sqdKdtLZ5C",
        "colab_type": "code",
        "colab": {}
      },
      "source": [
        "from collections import OrderedDict\n",
        "def merge_the_tools(string, k):\n",
        "    n=len(string)\n",
        "    h=int(n/k)\n",
        "    for i in range(h):\n",
        "        sub=string[i*k:i*k+k]\n",
        "        print(''.join(list(OrderedDict.fromkeys(sub))))"
      ],
      "execution_count": null,
      "outputs": []
    }
  ]
}